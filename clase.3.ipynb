{
 "cells": [
  {
   "cell_type": "markdown",
   "id": "a7d30a11",
   "metadata": {},
   "source": [
    "# CLASE 5 \n",
    "## DAR FORMA A LAS SALIDAS DE IMPRECIONES \n"
   ]
  },
  {
   "cell_type": "code",
   "execution_count": null,
   "id": "578d9c23",
   "metadata": {},
   "outputs": [
    {
     "name": "stdout",
     "output_type": "stream",
     "text": [
      "la variables son de tipo :  13 TRECE\n"
     ]
    }
   ],
   "source": [
    "#print clasica\n",
    "AA= 13\n",
    "BB = \"TRECE\"\n",
    "print(\"la variables son de tipo : \" , AA, BB)"
   ]
  },
  {
   "cell_type": "code",
   "execution_count": null,
   "id": "d30bff21",
   "metadata": {},
   "outputs": [
    {
     "name": "stdout",
     "output_type": "stream",
     "text": [
      "EL VALOR DE LA VARIABLE ES: 14 Y EL VALOR DE LA OTRA VARIABLE ES : COMIDA \n"
     ]
    }
   ],
   "source": [
    "#METODO PRINT CON \"f\"\n",
    "CC= 14\n",
    "DD=\"COMIDA\"\n",
    "\n",
    "print (f\"EL VALOR DE LA VARIABLE ES: {CC} Y EL VALOR DE LA OTRA VARIABLE ES : {DD} \" )"
   ]
  },
  {
   "cell_type": "code",
   "execution_count": null,
   "id": "bd2f357d",
   "metadata": {},
   "outputs": [
    {
     "name": "stdout",
     "output_type": "stream",
     "text": [
      "hola, mucho gusto mi nombre es Andres y tengo 19 años \n"
     ]
    }
   ],
   "source": [
    "#metodo print con  .format \n",
    "Nombre = \"Andres\"\n",
    "Edad = 19\n",
    "print ( \"hola, mucho gusto mi nombre es {} y tengo {} años \" .format(Nombre,Edad))"
   ]
  },
  {
   "cell_type": "code",
   "execution_count": 6,
   "id": "24eb4648",
   "metadata": {},
   "outputs": [
    {
     "name": "stdout",
     "output_type": "stream",
     "text": [
      "hola, mucho gusto mi nombre es cristian y mi apellido es gutierrez y tengo 20 años mi estatura es 1.700000 \n"
     ]
    }
   ],
   "source": [
    "#metodo priny con % \"poco comun \"\n",
    "Nombre = \"cristian\"\n",
    "apellido = \"gutierrez\"\n",
    "Edad = 20\n",
    "altura= 1.70\n",
    "print ( \"hola, mucho gusto mi nombre es %s y mi apellido es %s y tengo %d años mi estatura es %f \" %(Nombre,apellido,Edad,  altura))"
   ]
  },
  {
   "cell_type": "markdown",
   "id": "e38f9130",
   "metadata": {},
   "source": [
    "# caracteres de escape"
   ]
  },
  {
   "cell_type": "code",
   "execution_count": 15,
   "id": "baf4fd1e",
   "metadata": {},
   "outputs": [
    {
     "name": "stdout",
     "output_type": "stream",
     "text": [
      " desayune  a las 6 am,\n"
     ]
    }
   ],
   "source": [
    "#usando el /\n",
    "print (\"me levante a las 6 am,\\r desayune \")"
   ]
  },
  {
   "cell_type": "code",
   "execution_count": 14,
   "id": "9dc834bf",
   "metadata": {},
   "outputs": [
    {
     "name": "stdout",
     "output_type": "stream",
     "text": [
      "me levante tarde hoy, llegue \"tarde\" la clase de algoritmos\n"
     ]
    }
   ],
   "source": [
    "\n",
    "print(\"me levante tarde hoy, llegue \\\"tarde\\\" la clase de algoritmos\")"
   ]
  },
  {
   "cell_type": "code",
   "execution_count": null,
   "id": "397deef3",
   "metadata": {},
   "outputs": [
    {
     "name": "stdout",
     "output_type": "stream",
     "text": [
      "Cristian\tAndres\tGutierrez\tGalan\n"
     ]
    }
   ],
   "source": [
    "# usando \\t\n",
    "print (\"Cristian\\tAndres\\tGutierrez\\tGalan\")"
   ]
  },
  {
   "cell_type": "code",
   "execution_count": null,
   "id": "0daf1610",
   "metadata": {},
   "outputs": [
    {
     "name": "stdout",
     "output_type": "stream",
     "text": [
      "El semestre se acaba el 6 de junio.\n",
      " toca hacer un asadito\n"
     ]
    }
   ],
   "source": [
    "# usadno \\n \n",
    "print (\"El semestre se acaba el 6 de junio.\\nToca hacer un asadito\")"
   ]
  },
  {
   "cell_type": "code",
   "execution_count": 25,
   "id": "db6d03d2",
   "metadata": {},
   "outputs": [
    {
     "name": "stdout",
     "output_type": "stream",
     "text": [
      "En términos de programación, un algoritmo es una secuencia de pasos lógicos que permiten solucionar un \"problema\". \n",
      "Por ejemplo: si perdemos el acceso a una cuenta nos dan una serie de pasos para poder identificarla y así recuperarla o borrarla,\n",
      " que desarrollándose de manera efectiva y lógica, \t lograrán un resultado determinado.\n"
     ]
    }
   ],
   "source": [
    "\n",
    "print(\"\\rEn términos de programación, un algoritmo es una secuencia de pasos lógicos que permiten solucionar un \\\"problema\\\". \\nPor ejemplo: si perdemos el acceso a una cuenta nos dan una serie de pasos para poder identificarla y así recuperarla o borrarla,\\n que desarrollándose de manera efectiva y lógica, \\t lograrán un resultado determinado.\")"
   ]
  },
  {
   "cell_type": "markdown",
   "id": "218c2e71",
   "metadata": {},
   "source": [
    "# operaciones matematicas y variables enteras y flotantes"
   ]
  },
  {
   "cell_type": "code",
   "execution_count": null,
   "id": "1819c9aa",
   "metadata": {},
   "outputs": [],
   "source": [
    "num_1= 10\n",
    "num_2=50\n",
    " \n",
    "suma = num_1+ num_2\n",
    "\n",
    "print (f\"el resultado de la operacion suma es : {suma} y el tipo de variable es \")\n"
   ]
  }
 ],
 "metadata": {
  "kernelspec": {
   "display_name": "Python 3",
   "language": "python",
   "name": "python3"
  },
  "language_info": {
   "codemirror_mode": {
    "name": "ipython",
    "version": 3
   },
   "file_extension": ".py",
   "mimetype": "text/x-python",
   "name": "python",
   "nbconvert_exporter": "python",
   "pygments_lexer": "ipython3",
   "version": "3.13.3"
  }
 },
 "nbformat": 4,
 "nbformat_minor": 5
}
