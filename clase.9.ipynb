{
 "cells": [
  {
   "cell_type": "markdown",
   "id": "6e345cdc",
   "metadata": {},
   "source": [
    "# algoritmos para hacer conteo"
   ]
  },
  {
   "cell_type": "code",
   "execution_count": 1,
   "id": "d8bd3a26",
   "metadata": {},
   "outputs": [
    {
     "name": "stdout",
     "output_type": "stream",
     "text": [
      "Frecuencia de palabras:\n",
      "el: 3\n",
      "perro: 2\n",
      "corre: 1\n",
      "y: 2\n",
      "gato: 1\n",
      "duerme: 1\n",
      "ladra: 1\n"
     ]
    }
   ],
   "source": [
    "# Importamos la clase Counter desde la biblioteca collections\n",
    "from collections import Counter\n",
    "\n",
    "# Declaramos una cadena de texto (puede venir de un archivo, input, etc.)\n",
    "texto = \"el perro corre y el gato duerme y el perro ladra\"\n",
    "\n",
    "# Dividimos el texto en una lista de palabras\n",
    "palabras = texto.split()  # ['el', 'perro', 'corre', 'y', 'el', 'gato', ...]\n",
    "\n",
    "# Usamos Counter para contar cuántas veces aparece cada palabra\n",
    "frecuencia = Counter(palabras)\n",
    "\n",
    "# Imprimimos el resultado\n",
    "print(\"Frecuencia de palabras:\")\n",
    "for palabra, conteo in frecuencia.items():\n",
    "    print(f\"{palabra}: {conteo}\")"
   ]
  }
 ],
 "metadata": {
  "kernelspec": {
   "display_name": "Python 3",
   "language": "python",
   "name": "python3"
  },
  "language_info": {
   "codemirror_mode": {
    "name": "ipython",
    "version": 3
   },
   "file_extension": ".py",
   "mimetype": "text/x-python",
   "name": "python",
   "nbconvert_exporter": "python",
   "pygments_lexer": "ipython3",
   "version": "3.13.3"
  }
 },
 "nbformat": 4,
 "nbformat_minor": 5
}
