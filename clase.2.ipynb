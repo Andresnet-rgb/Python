{
 "cells": [
  {
   "cell_type": "markdown",
   "id": "8c02d974",
   "metadata": {},
   "source": [
    "#  clase 2 "
   ]
  },
  {
   "cell_type": "code",
   "execution_count": null,
   "id": "25a97b36",
   "metadata": {},
   "outputs": [],
   "source": [
    "# tipo de variable \n",
    "A = \"carlos\" # variables tipo cadena de  texto \n",
    "carlos = 12 #variable tipo entero \"int\" \n",
    "stra = 1.79 # variable tipo flotante \"float\"\n",
    "deportes = True # variable tipo booleano"
   ]
  },
  {
   "cell_type": "code",
   "execution_count": 14,
   "id": "15c8370a",
   "metadata": {},
   "outputs": [
    {
     "data": {
      "text/plain": [
       "str"
      ]
     },
     "execution_count": 14,
     "metadata": {},
     "output_type": "execute_result"
    }
   ],
   "source": [
    "#investigar el tipo de datos que tiene una variable \n",
    "type(A)"
   ]
  },
  {
   "cell_type": "code",
   "execution_count": null,
   "id": "42b572c1",
   "metadata": {},
   "outputs": [
    {
     "data": {
      "text/plain": [
       "int"
      ]
     },
     "execution_count": 15,
     "metadata": {},
     "output_type": "execute_result"
    }
   ],
   "source": [
    "#funcion para ver el tipo de dato\n",
    "type(carlos)"
   ]
  },
  {
   "cell_type": "code",
   "execution_count": 16,
   "id": "41cf0af8",
   "metadata": {},
   "outputs": [
    {
     "data": {
      "text/plain": [
       "float"
      ]
     },
     "execution_count": 16,
     "metadata": {},
     "output_type": "execute_result"
    }
   ],
   "source": [
    "type (stra)"
   ]
  },
  {
   "cell_type": "code",
   "execution_count": 17,
   "id": "a037f7f5",
   "metadata": {},
   "outputs": [
    {
     "data": {
      "text/plain": [
       "bool"
      ]
     },
     "execution_count": 17,
     "metadata": {},
     "output_type": "execute_result"
    }
   ],
   "source": [
    "type (deportes)"
   ]
  }
 ],
 "metadata": {
  "kernelspec": {
   "display_name": "Python 3",
   "language": "python",
   "name": "python3"
  },
  "language_info": {
   "codemirror_mode": {
    "name": "ipython",
    "version": 3
   },
   "file_extension": ".py",
   "mimetype": "text/x-python",
   "name": "python",
   "nbconvert_exporter": "python",
   "pygments_lexer": "ipython3",
   "version": "3.13.3"
  }
 },
 "nbformat": 4,
 "nbformat_minor": 5
}
