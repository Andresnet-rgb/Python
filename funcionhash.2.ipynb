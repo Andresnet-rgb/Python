{
 "cells": [
  {
   "cell_type": "code",
   "execution_count": 1,
   "id": "8b5403e2",
   "metadata": {},
   "outputs": [
    {
     "name": "stdout",
     "output_type": "stream",
     "text": [
      "Hash SHA-256 de las partes unidas: 3ce98764dbebdc94b5e95b08bcb05237efef567533902b2731c1b09ec005b775\n"
     ]
    }
   ],
   "source": [
    "import hashlib\n",
    "\n",
    "# Paso 1: Crear un objeto hash vacío usando SHA-256\n",
    "m = hashlib.sha256()\n",
    "\n",
    "# Paso 2: Agregar datos en partes (puede ser útil si los datos son muy grandes o vienen en fragmentos)\n",
    "m.update(b\"Primera parte de datos, \")\n",
    "m.update(b\"segunda parte de datos, \")\n",
    "m.update(b\"y la tercera parte.\")\n",
    "\n",
    "# Paso 3: Obtener el hash final en formato hexadecimal\n",
    "hash_final = m.hexdigest()\n",
    "\n",
    "print(\"Hash SHA-256 de las partes unidas:\", hash_final)"
   ]
  },
  {
   "cell_type": "code",
   "execution_count": null,
   "id": "73d00195",
   "metadata": {},
   "outputs": [],
   "source": [
    "def funcion_hash_simple(texto):\n",
    "   \n",
    "    total = 0  # Empezamos con un número 0\n",
    "    \n",
    "    # Recorremos cada letra del texto\n",
    "    for letra in texto:\n",
    "        # Sumamos el valor numérico de la letra (usamos ord para obtener su código ASCII)\n",
    "        total += ord(letra)\n",
    "    \n",
    "    # Para que el número no sea muy grande, usamos el módulo 100 (resto de la división entre 100)\n",
    "    hash_resultado = total % 100\n",
    "    \n",
    "    return hash_resultado\n",
    "\n",
    "# Probamos la función con un texto\n",
    "texto= input (\" ingresa texto \")\n",
    "hash_del_texto = funcion_hash_simple(texto)\n",
    "# imprimimos ya los resultado \n",
    "print(\"Texto:\", texto)\n",
    "print(\"Hash simple:\", hash_del_texto)"
   ]
  }
 ],
 "metadata": {
  "kernelspec": {
   "display_name": "Python 3",
   "language": "python",
   "name": "python3"
  },
  "language_info": {
   "codemirror_mode": {
    "name": "ipython",
    "version": 3
   },
   "file_extension": ".py",
   "mimetype": "text/x-python",
   "name": "python",
   "nbconvert_exporter": "python",
   "pygments_lexer": "ipython3",
   "version": "3.13.3"
  }
 },
 "nbformat": 4,
 "nbformat_minor": 5
}
