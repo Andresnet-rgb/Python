{
 "cells": [
  {
   "cell_type": "markdown",
   "id": "eb5c7d19",
   "metadata": {},
   "source": [
    "# codigo DE LISTAS ORDENADAS "
   ]
  },
  {
   "cell_type": "code",
   "execution_count": null,
   "id": "08064f7c",
   "metadata": {},
   "outputs": [
    {
     "name": "stdout",
     "output_type": "stream",
     "text": [
      "[17, 20, 26, 31, 44, 54, 55, 77, 93]\n"
     ]
    }
   ],
   "source": [
    "#define una funcion llamada ordenamientoporinsercion que recibe una lista \n",
    "\n",
    "def ordenamientoporinsercion(unalista):\n",
    "    #un ciclo que corre la lista desde el indice 1 hasta ek final \n",
    "    for indice in range(1,len(unalista)):\n",
    "        #guarda  el valor del elemento actual que queremos insertar en su lugar correctoo\n",
    "        valoractual= unalista[indice]\n",
    "        #guarda la posicion actual, que puede ir cambiando si el valor nesita moverse \n",
    "        posicion = indice\n",
    "        #este bucle while se encarga de mover los elementos mayores que valoractual una posicionn \n",
    "        #para para insertar valoractual en la posicion correcta \n",
    "        while posicion >0 and unalista[posicion-1]>valoractual:\n",
    "            unalista[posicion]= unalista[posicion-1]\n",
    "            posicion = posicion-1\n",
    "        \n",
    "        #una vez encontrado el lugar correcto, se inserta valoractual en la posicion adecuada\n",
    "        unalista[posicion]=valoractual\n",
    "\n",
    "\n",
    "#AQUI SE CREA UNA LISTA DESORDENADA \n",
    "\n",
    "unalista = [54, 26, 93, 17, 77, 31, 44, 55, 20]\n",
    "ordenamientoporinsercion(unalista)\n",
    "#se imprime el resultado \n",
    "print (unalista)"
   ]
  },
  {
   "cell_type": "code",
   "execution_count": null,
   "id": "b0f37827",
   "metadata": {},
   "outputs": [],
   "source": [
    "# Definimos la función \"ordenamientoPorSeleccion\" que recibe una lista como parámetro\n",
    "def ordenamientoPorSeleccion(unaLista):\n",
    "    # Recorremos la lista desde el final hacia el principio\n",
    "    for llenarRanura in range(len(unaLista)-1, 0, -1):\n",
    "        # Suponemos que el mayor valor está en la primera posición\n",
    "        posicionDelMayor = 0\n",
    "        # Buscamos el valor más grande entre la posición 0 y llenarRanura\n",
    "        for ubicacion in range(1, llenarRanura + 1):\n",
    "            # Si encontramos un valor mayor, actualizamos la posición del mayor\n",
    "            if unaLista[ubicacion] > unaLista[posicionDelMayor]:\n",
    "                posicionDelMayor = ubicacion\n",
    "\n",
    "        # Intercambiamos el mayor valor encontrado con el valor en la posición llenarRanura\n",
    "        temp = unaLista[llenarRanura]\n",
    "        unaLista[llenarRanura] = unaLista[posicionDelMayor]\n",
    "        unaLista[posicionDelMayor] = temp\n",
    "\n",
    "# Creamos una lista desordenada\n",
    "unaLista = [54, 26, 93, 17, 77, 31, 44, 55, 20]\n",
    "# Llamamos a la función para ordenar la lista\n",
    "ordenamientoPorSeleccion(unaLista)\n",
    "\n",
    "# Imprimimos la lista ya ordenada\n",
    "print(unaLista)"
   ]
  }
 ],
 "metadata": {
  "kernelspec": {
   "display_name": "Python 3",
   "language": "python",
   "name": "python3"
  },
  "language_info": {
   "codemirror_mode": {
    "name": "ipython",
    "version": 3
   },
   "file_extension": ".py",
   "mimetype": "text/x-python",
   "name": "python",
   "nbconvert_exporter": "python",
   "pygments_lexer": "ipython3",
   "version": "3.13.3"
  }
 },
 "nbformat": 4,
 "nbformat_minor": 5
}
