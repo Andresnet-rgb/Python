{
 "cells": [
  {
   "cell_type": "code",
   "execution_count": null,
   "id": "c832de61",
   "metadata": {},
   "outputs": [],
   "source": [
    "\n",
    "def sumar (a,b):\n",
    "\n",
    "    operacion = a+b\n",
    "    print(\"la suma de los dos numeros es:\" , operacion)\n",
    "\n",
    "a = int (input (\"ingrese el primer valor\"))\n",
    "b = int(input(\"ingrese el segundo valor\"))      \n",
    "sumar(a,b)"
   ]
  },
  {
   "cell_type": "markdown",
   "id": "05628861",
   "metadata": {},
   "source": [
    "# crear funciones manipulando listas \n"
   ]
  },
  {
   "cell_type": "code",
   "execution_count": null,
   "id": "fa427a92",
   "metadata": {},
   "outputs": [],
   "source": [
    "mi_lista=[\"uno\",\"dos\",\"tres\",\"cuatro\",\"cinco\",\"seis\",\"ocho\"]\n",
    "#\n",
    "def agregar_elemento():\n",
    "    print(\"funcion para agregar un elemento\") #im´rimir mensaje de funcion \n",
    "    print( \"lista actual:\" ,mi_lista)# mostramos la lista actual\n",
    "    valor_numero = input(\"ingrese el nuevo elemento a agregar:\")# solicitamos el elemento a ingresar \n",
    "    mi_lista.append(valor_numero)# agregar el numero elemento a la lista\n",
    "    print(\"lista modificada\", mi_lista)# mostrar la lista modificada \n",
    "    print(\"-\"*80) # separador por linea \n",
    "\n",
    "\n",
    "# funcion para modificar un elemento existente\n",
    "\n",
    "def modificar_elemnto():\n",
    "    print(\"funcion para modificar un elemento existente\") #im´rimir mensaje de funcion \n",
    "    print( \"lista actual:\" ,mi_lista)# mostramos la lista actual\n",
    "    valor_actual = input(\"ingrese el elemento que deseas modificar:\")\n",
    "    #hacemos una validacion\n",
    "    if (valor_actual in mi_lista):\n",
    "        nuevo_val= input(\"ingresa el nuevo valor\") # solicitar al usuario el nuevo valor\n",
    "        #modificamos si el valor esta en la lista \n",
    "        mi_lista[mi_lista.index(valor_actual)]=nuevo_val #modifciar en la lista \n",
    "        print(\"lista modificada:\", mi_lista) #mostrar lista modificada \n",
    "    else:\n",
    "        print(\"el valor no se encuentra en la lista \")\n",
    "    print(\"-\"*80) # separador por linea\n",
    "\n",
    "def eliminar_elemento():\n",
    "    print(\"funcion para modificar un elemento existente\") #im´rimir mensaje de funcion \n",
    "    print( \"lista actual:\" ,mi_lista)# mostramos la lista actual\n",
    "    valor_eliminar= input(\"Cual es el valor de deseas eliminar\") #pedimos al usuario el valor que deseas eliminar \n",
    "    #hacemos una validacion del elemento que deseamos eliminar de la lista \n",
    "    if (valor_eliminar in mi_lista):\n",
    "        mi_lista.remove(valor_eliminar)#usamos la funcion para eliminar el valor que el usurio escoja \n",
    "        print(\"la lista actual es:\", mi_lista)\n",
    "    else:\n",
    "        print(\"El elemento que deseas eliminar no existe en la lista\")\n",
    "        print(\"-\"*80) # separador por linea\n",
    "\n",
    "\n",
    "\n",
    "\n",
    "\n",
    "agregar_elemento() # llamar a  la funcion para agregar  un elemento\n",
    "modificar_elemnto()# llamar a  la funcion para modificar  un elemento\n",
    "eliminar_elemento()# llamar a  la funcion para eliminar  un elemento"
   ]
  },
  {
   "cell_type": "markdown",
   "id": "5f7fc74b",
   "metadata": {},
   "source": [
    "# actividad de clase "
   ]
  },
  {
   "cell_type": "code",
   "execution_count": 20,
   "id": "a40129ff",
   "metadata": {},
   "outputs": [
    {
     "name": "stdout",
     "output_type": "stream",
     "text": [
      "funcion para agregar un elemento\n",
      "lista actual: [2, 1, 5, 4, 8, 6, 7]\n",
      "lista modificada [2, 1, 5, 4, 8, 6, 7, 0]\n",
      "--------------------------------------------------------------------------------\n",
      "funcion para modificar un elemento existente\n",
      "lista actual: [2, 1, 5, 4, 8, 6, 7, 0]\n",
      "lista modificada: [2, 9, 5, 4, 8, 6, 7, 0]\n",
      "--------------------------------------------------------------------------------\n",
      "funcion para modificar un elemento existente\n",
      "lista actual: [2, 9, 5, 4, 8, 6, 7, 0]\n",
      "la lista actual es: [9, 5, 4, 8, 6, 7, 0]\n",
      "--------------------------------------------------------------------------------\n",
      "funcion de ordenamiento de lista final\n",
      "La lista ordenada: [0, 4, 5, 6, 7, 8, 9]\n",
      "--------------------------------------------------------------------------------\n"
     ]
    }
   ],
   "source": [
    "mi_lista=[2,1,5,4,8,6,7]\n",
    "#\n",
    "def agregar_elemento():\n",
    "    print(\"funcion para agregar un elemento\") #im´rimir mensaje de funcion \n",
    "    print( \"lista actual:\" ,mi_lista)# mostramos la lista actual\n",
    "    valor_numero = int(input(\"ingrese el nuevo elemento a agregar:\"))# solicitamos el elemento a ingresar \n",
    "    mi_lista.append(valor_numero)# agregar el numero elemento a la lista\n",
    "    print(\"lista modificada\", mi_lista)# mostrar la lista modificada \n",
    "    print(\"-\"*80) # separador por linea \n",
    "\n",
    "\n",
    "# funcion para modificar un elemento existente\n",
    "\n",
    "def modificar_elemnto():\n",
    "    print(\"funcion para modificar un elemento existente\") #im´rimir mensaje de funcion \n",
    "    print( \"lista actual:\" ,mi_lista)# mostramos la lista actual\n",
    "    valor_actual = int(input(\"ingrese el elemento que deseas modificar:\"))\n",
    "    #hacemos una validacion\n",
    "    if (valor_actual in mi_lista):\n",
    "        nuevo_val= int(input(\"ingresa el nuevo valor\")) # solicitar al usuario el nuevo valor\n",
    "        #modificamos si el valor esta en la lista \n",
    "        mi_lista[mi_lista.index(valor_actual)]=nuevo_val #modifciar en la lista \n",
    "        print(\"lista modificada:\", mi_lista) #mostrar lista modificada \n",
    "    else:\n",
    "        print(\"el valor no se encuentra en la lista \")\n",
    "    print(\"-\"*80) # separador por linea\n",
    "\n",
    "def eliminar_elemento():\n",
    "    print(\"funcion para modificar un elemento existente\") #im´rimir mensaje de funcion \n",
    "    print( \"lista actual:\" ,mi_lista)# mostramos la lista actual\n",
    "    valor_eliminar= int(input(\"Cual es el valor de deseas eliminar\")) #pedimos al usuario el valor que deseas eliminar \n",
    "    #hacemos una validacion del elemento que deseamos eliminar de la lista \n",
    "    if (valor_eliminar in mi_lista):\n",
    "        mi_lista.remove(valor_eliminar)#usamos la funcion para eliminar el valor que el usurio escoja \n",
    "        print(\"la lista actual es:\", mi_lista)\n",
    "        print(\"-\"*80)\n",
    "    else:\n",
    "        print(\"El elemento que deseas eliminar no existe en la lista\")\n",
    "      # separador por linea\n",
    "\n",
    "def lista_ordenada():\n",
    "    print(\"funcion de ordenamiento de lista final\")\n",
    "    mi_lista.sort()\n",
    "    print(\"La lista ordenada:\",mi_lista)\n",
    "    print(\"-\"*80)\n",
    "\n",
    "\n",
    "\n",
    "agregar_elemento() # llamar a  la funcion para agregar  un elemento\n",
    "modificar_elemnto()# llamar a  la funcion para modificar  un elemento\n",
    "eliminar_elemento()# llamar a  la funcion para eliminar  un elemento\n",
    "lista_ordenada()"
   ]
  }
 ],
 "metadata": {
  "kernelspec": {
   "display_name": "Python 3",
   "language": "python",
   "name": "python3"
  },
  "language_info": {
   "codemirror_mode": {
    "name": "ipython",
    "version": 3
   },
   "file_extension": ".py",
   "mimetype": "text/x-python",
   "name": "python",
   "nbconvert_exporter": "python",
   "pygments_lexer": "ipython3",
   "version": "3.13.3"
  }
 },
 "nbformat": 4,
 "nbformat_minor": 5
}
