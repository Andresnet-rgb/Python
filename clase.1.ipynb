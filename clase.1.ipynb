{
 "cells": [
  {
   "cell_type": "markdown",
   "id": "c165352c",
   "metadata": {},
   "source": [
    "# clase 1 \n"
   ]
  },
  {
   "cell_type": "markdown",
   "id": "d402f2fe",
   "metadata": {},
   "source": [
    "### esta cñase de es para aprender las bases de pythom "
   ]
  },
  {
   "cell_type": "code",
   "execution_count": 1,
   "id": "22b9d4a5",
   "metadata": {},
   "outputs": [
    {
     "name": "stdout",
     "output_type": "stream",
     "text": [
      "3 es mayor\n"
     ]
    }
   ],
   "source": [
    "a = 3 \n",
    "b= 0\n",
    "if (a>b):\n",
    "  print (a, \"es mayor\")\n",
    "else:\n",
    "    print (b, \"es mayor\")"
   ]
  }
 ],
 "metadata": {
  "kernelspec": {
   "display_name": "Python 3",
   "language": "python",
   "name": "python3"
  },
  "language_info": {
   "codemirror_mode": {
    "name": "ipython",
    "version": 3
   },
   "file_extension": ".py",
   "mimetype": "text/x-python",
   "name": "python",
   "nbconvert_exporter": "python",
   "pygments_lexer": "ipython3",
   "version": "3.13.3"
  }
 },
 "nbformat": 4,
 "nbformat_minor": 5
}
