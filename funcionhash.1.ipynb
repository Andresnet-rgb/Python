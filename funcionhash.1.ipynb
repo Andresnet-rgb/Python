{
 "cells": [
  {
   "cell_type": "code",
   "execution_count": 4,
   "id": "8ae90d00",
   "metadata": {},
   "outputs": [
    {
     "name": "stdout",
     "output_type": "stream",
     "text": [
      "Texto original: hola \n",
      "Hash SHA-256: cd10cd29a0da17a6eebbca50d7b54af247ad08936296baea9d62cc6c2955f4fa\n"
     ]
    }
   ],
   "source": [
    "import hashlib\n",
    "\n",
    "texto=input(\"Ingresa el texto que desees \" )\n",
    "\n",
    "#  Convertir el texto a bytes (necesario para la función hash)\n",
    "texto_bytes = texto.encode()\n",
    "\n",
    "# Crear un objeto hash usando SHA-256\n",
    "hash_objeto = hashlib.sha256(texto_bytes)\n",
    "\n",
    "# Obtener el hash en formato hexadecimal (cadena legible)\n",
    "hash_hex = hash_objeto.hexdigest()\n",
    "\n",
    "#ya en este punto imprimimos los resultados \n",
    "print(\"Texto original:\", texto)\n",
    "print(\"Hash SHA-256:\", hash_hex)"
   ]
  }
 ],
 "metadata": {
  "kernelspec": {
   "display_name": "Python 3",
   "language": "python",
   "name": "python3"
  },
  "language_info": {
   "codemirror_mode": {
    "name": "ipython",
    "version": 3
   },
   "file_extension": ".py",
   "mimetype": "text/x-python",
   "name": "python",
   "nbconvert_exporter": "python",
   "pygments_lexer": "ipython3",
   "version": "3.13.3"
  }
 },
 "nbformat": 4,
 "nbformat_minor": 5
}
